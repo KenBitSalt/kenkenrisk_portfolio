{
 "cells": [
  {
   "cell_type": "markdown",
   "id": "6b1a58d4",
   "metadata": {},
   "source": [
    "## testing packages created in this rep"
   ]
  },
  {
   "cell_type": "code",
   "execution_count": 1,
   "id": "a6f2ec1c",
   "metadata": {},
   "outputs": [],
   "source": [
    "import sim_engine.monte\n",
    "import sim_engine.payoffs"
   ]
  }
 ],
 "metadata": {
  "kernelspec": {
   "display_name": "generic",
   "language": "python",
   "name": "python3"
  },
  "language_info": {
   "name": "python",
   "version": "3.13.5"
  }
 },
 "nbformat": 4,
 "nbformat_minor": 5
}
